{
 "cells": [
  {
   "cell_type": "markdown",
   "id": "b48603df",
   "metadata": {},
   "source": [
    "![Python Course](https://pbs.twimg.com/media/Fo9IIvkWIBAIAwT?format=jpg&name=medium)"
   ]
  },
  {
   "cell_type": "markdown",
   "id": "6d1a0da4",
   "metadata": {},
   "source": [
    "## 1.1 What is Python?\n",
    "Python is a high-level, interpreted programming language that is widely used for a variety of tasks, including web development, scientific computing, data analysis, artificial intelligence, and automation. It was first released in 1991 and has since become one of the most popular programming languages in the world, known for its simplicity, readability, and flexibility. Python code can be run on various platforms, including Windows, Linux, and macOS, and its extensive library of modules and frameworks makes it a versatile tool for developers and users of all skill levels."
   ]
  },
  {
   "cell_type": "markdown",
   "id": "9e3fd5e2",
   "metadata": {},
   "source": [
    "### 1.2 Feature of Python.\n",
    "Python has many features that make it a popular programming language for a wide range of tasks. Some of its key features include:\n",
    "\n",
    "* **Easy to learn and read:** Python is known for its simple and easy-to-understand syntax. Its code is easily readable by both humans and machines, making it an ideal language for beginners.\n",
    "\n",
    "* **Interpreted:** Python is an interpreted language, meaning that you can run code without compiling it first. This makes it faster to write and test code.\n",
    "\n",
    "* **Cross-platform:** Python code can be run on a wide range of platforms, including Windows, macOS, and Linux, making it a versatile language for developers.\n",
    "\n",
    "* **Large standard library:** Python comes with a large standard library that includes modules for a wide range of tasks, such as data processing, networking, and web development.\n",
    "\n",
    "* **Object-oriented:** Python is an object-oriented language, which means that it uses objects to represent data and functionality. This makes it easy to write reusable code and build complex applications.\n",
    "\n",
    "* **High-level language:** Python is a high-level language, meaning that it handles low-level details like memory management for you. This makes it easier to write code and reduces the chance of errors.\n",
    "\n",
    "* **Dynamic typing:** Python is dynamically typed, meaning that you don't need to declare variable types explicitly. This makes it easier to write code quickly and change it as needed.\n",
    "\n",
    "Overall, Python's features make it a powerful and flexible language that can be used for a wide range of tasks, from web development and data analysis to scientific computing and artificial intelligence."
   ]
  },
  {
   "cell_type": "markdown",
   "id": "e78c775d",
   "metadata": {},
   "source": [
    "## 1.3 How to Install Python?\n",
    "Installing Python is a simple process and can be done in a few steps:\n",
    "\n",
    "1. Go to the official Python website at [python.org](python.org) and download the latest version of Python for your operating system.\n",
    "\n",
    "2. Once the download is complete, run the installer and follow the instructions.\n",
    "\n",
    "3. During the installation process, you will be asked to choose the installation directory and select the optional components you want to install. You can leave these settings at their default values if you're not sure what to choose.\n",
    "\n",
    "4. Once the installation is complete, open the command prompt (Windows) or terminal (macOS or Linux) and type python --version to verify that Python is installed correctly. If you see the version number displayed, Python is installed and ready to use.\n",
    "\n",
    "5. To start using Python, you can open a Python interpreter in the command prompt or terminal by typing python and pressing Enter. This will open a command-line interface where you can type Python code and run it immediately.\n",
    "\n",
    "6. Alternatively, you can install a Python-integrated development environment (IDE) such as PyCharm, Visual Studio Code, or IDLE. IDEs provide a more user-friendly interface for writing and running Python code, as well as additional features like code highlighting, debugging, and code completion.\n",
    "\n",
    "That's it! You're now ready to start using Python and writing your first programs."
   ]
  },
  {
   "cell_type": "markdown",
   "id": "5b6080d2",
   "metadata": {},
   "source": [
    "<font color = \"blue\"> @ The Art of Data Science</font>"
   ]
  }
 ],
 "metadata": {
  "kernelspec": {
   "display_name": "Python 3 (ipykernel)",
   "language": "python",
   "name": "python3"
  },
  "language_info": {
   "codemirror_mode": {
    "name": "ipython",
    "version": 3
   },
   "file_extension": ".py",
   "mimetype": "text/x-python",
   "name": "python",
   "nbconvert_exporter": "python",
   "pygments_lexer": "ipython3",
   "version": "3.9.7"
  }
 },
 "nbformat": 4,
 "nbformat_minor": 5
}
